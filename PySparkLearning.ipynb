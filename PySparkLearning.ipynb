{
  "nbformat": 4,
  "nbformat_minor": 0,
  "metadata": {
    "colab": {
      "provenance": [],
      "authorship_tag": "ABX9TyMi2Y3P77FSUR/IKKH+IWQM",
      "include_colab_link": true
    },
    "kernelspec": {
      "name": "python3",
      "display_name": "Python 3"
    },
    "language_info": {
      "name": "python"
    }
  },
  "cells": [
    {
      "cell_type": "markdown",
      "metadata": {
        "id": "view-in-github",
        "colab_type": "text"
      },
      "source": [
        "<a href=\"https://colab.research.google.com/github/Narges1989/PySpark-Tutorial/blob/main/PySparkLearning.ipynb\" target=\"_parent\"><img src=\"https://colab.research.google.com/assets/colab-badge.svg\" alt=\"Open In Colab\"/></a>"
      ]
    },
    {
      "cell_type": "markdown",
      "source": [
        "# PySpark Tutorial"
      ],
      "metadata": {
        "id": "V5rqiOxO0zrH"
      }
    },
    {
      "cell_type": "code",
      "execution_count": null,
      "metadata": {
        "colab": {
          "base_uri": "https://localhost:8080/"
        },
        "id": "kV3Lyi8cYLRX",
        "outputId": "ae9d5253-fd16-4a8d-bf18-148eac9b2da7"
      },
      "outputs": [
        {
          "output_type": "stream",
          "name": "stdout",
          "text": [
            "Collecting pyspark\n",
            "  Downloading pyspark-3.5.2.tar.gz (317.3 MB)\n",
            "\u001b[2K     \u001b[90m━━━━━━━━━━━━━━━━━━━━━━━━━━━━━━━━━━━━━━━━\u001b[0m \u001b[32m317.3/317.3 MB\u001b[0m \u001b[31m3.4 MB/s\u001b[0m eta \u001b[36m0:00:00\u001b[0m\n",
            "\u001b[?25h  Preparing metadata (setup.py) ... \u001b[?25l\u001b[?25hdone\n",
            "Requirement already satisfied: py4j==0.10.9.7 in /usr/local/lib/python3.10/dist-packages (from pyspark) (0.10.9.7)\n",
            "Building wheels for collected packages: pyspark\n",
            "  Building wheel for pyspark (setup.py) ... \u001b[?25l\u001b[?25hdone\n",
            "  Created wheel for pyspark: filename=pyspark-3.5.2-py2.py3-none-any.whl size=317812365 sha256=f986beda4fc8dbc36c283dcf6d23567193f5cfc9274a03598864236944675ba2\n",
            "  Stored in directory: /root/.cache/pip/wheels/34/34/bd/03944534c44b677cd5859f248090daa9fb27b3c8f8e5f49574\n",
            "Successfully built pyspark\n",
            "Installing collected packages: pyspark\n",
            "Successfully installed pyspark-3.5.2\n"
          ]
        }
      ],
      "source": [
        "pip install pyspark\n"
      ]
    },
    {
      "cell_type": "markdown",
      "source": [
        "## 1. Create pyspark Session"
      ],
      "metadata": {
        "id": "VjIzTAju0-Cm"
      }
    },
    {
      "cell_type": "code",
      "source": [
        "import pyspark"
      ],
      "metadata": {
        "id": "t5FSUAwUaJOL"
      },
      "execution_count": null,
      "outputs": []
    },
    {
      "cell_type": "code",
      "source": [
        "from pyspark.sql import SparkSession"
      ],
      "metadata": {
        "id": "D6-aMEAhkLRF"
      },
      "execution_count": null,
      "outputs": []
    },
    {
      "cell_type": "code",
      "source": [
        "spark = SparkSession.builder.appName('heart').getOrCreate()"
      ],
      "metadata": {
        "id": "7BJa1imrkSkh"
      },
      "execution_count": null,
      "outputs": []
    },
    {
      "cell_type": "code",
      "source": [
        "spark"
      ],
      "metadata": {
        "colab": {
          "base_uri": "https://localhost:8080/",
          "height": 219
        },
        "id": "FxKju56jkeMx",
        "outputId": "8d3158c1-e1a1-4c8c-8e78-ee4890c04796"
      },
      "execution_count": null,
      "outputs": [
        {
          "output_type": "execute_result",
          "data": {
            "text/plain": [
              "<pyspark.sql.session.SparkSession at 0x7c6c587dac50>"
            ],
            "text/html": [
              "\n",
              "            <div>\n",
              "                <p><b>SparkSession - in-memory</b></p>\n",
              "                \n",
              "        <div>\n",
              "            <p><b>SparkContext</b></p>\n",
              "\n",
              "            <p><a href=\"http://1555cb9e4f71:4040\">Spark UI</a></p>\n",
              "\n",
              "            <dl>\n",
              "              <dt>Version</dt>\n",
              "                <dd><code>v3.5.2</code></dd>\n",
              "              <dt>Master</dt>\n",
              "                <dd><code>local[*]</code></dd>\n",
              "              <dt>AppName</dt>\n",
              "                <dd><code>heart</code></dd>\n",
              "            </dl>\n",
              "        </div>\n",
              "        \n",
              "            </div>\n",
              "        "
            ]
          },
          "metadata": {},
          "execution_count": 6
        }
      ]
    },
    {
      "cell_type": "markdown",
      "source": [
        "## 2. Read and Write Data"
      ],
      "metadata": {
        "id": "t8X2et1C1E4X"
      }
    },
    {
      "cell_type": "code",
      "source": [
        "df = spark.read.csv('heart.csv', header = True, inferSchema=True)"
      ],
      "metadata": {
        "id": "gtDWOxjMkjpJ"
      },
      "execution_count": null,
      "outputs": []
    },
    {
      "cell_type": "code",
      "source": [
        "df.show(5)"
      ],
      "metadata": {
        "colab": {
          "base_uri": "https://localhost:8080/"
        },
        "id": "64YnwlUklRJY",
        "outputId": "55a2f771-e906-4791-87fa-52f6b19938e9"
      },
      "execution_count": null,
      "outputs": [
        {
          "output_type": "stream",
          "name": "stdout",
          "text": [
            "+---+---+-------------+---------+-----------+---------+----------+-----+--------------+-------+--------+------------+\n",
            "|Age|Sex|ChestPainType|RestingBP|Cholesterol|FastingBS|RestingECG|MaxHR|ExerciseAngina|Oldpeak|ST_Slope|HeartDisease|\n",
            "+---+---+-------------+---------+-----------+---------+----------+-----+--------------+-------+--------+------------+\n",
            "| 40|  M|          ATA|      140|        289|        0|    Normal|  172|             N|    0.0|      Up|           0|\n",
            "| 49|  F|          NAP|      160|        180|        0|    Normal|  156|             N|    1.0|    Flat|           1|\n",
            "| 37|  M|          ATA|      130|        283|        0|        ST|   98|             N|    0.0|      Up|           0|\n",
            "| 48|  F|          ASY|      138|        214|        0|    Normal|  108|             Y|    1.5|    Flat|           1|\n",
            "| 54|  M|          NAP|      150|        195|        0|    Normal|  122|             N|    0.0|      Up|           0|\n",
            "+---+---+-------------+---------+-----------+---------+----------+-----+--------------+-------+--------+------------+\n",
            "only showing top 5 rows\n",
            "\n"
          ]
        }
      ]
    },
    {
      "cell_type": "code",
      "source": [
        "df.write.format('csv').save('heart2')"
      ],
      "metadata": {
        "id": "kwjLAfRh181e"
      },
      "execution_count": null,
      "outputs": []
    },
    {
      "cell_type": "code",
      "source": [
        "# headers\n",
        "df.columns"
      ],
      "metadata": {
        "colab": {
          "base_uri": "https://localhost:8080/"
        },
        "id": "wgBzxeExnNr1",
        "outputId": "b5c0a6fc-9c27-4479-f132-04e0250bfd97"
      },
      "execution_count": null,
      "outputs": [
        {
          "output_type": "execute_result",
          "data": {
            "text/plain": [
              "['Age',\n",
              " 'Sex',\n",
              " 'ChestPainType',\n",
              " 'RestingBP',\n",
              " 'Cholesterol',\n",
              " 'FastingBS',\n",
              " 'RestingECG',\n",
              " 'MaxHR',\n",
              " 'ExerciseAngina',\n",
              " 'Oldpeak',\n",
              " 'ST_Slope',\n",
              " 'HeartDisease']"
            ]
          },
          "metadata": {},
          "execution_count": 10
        }
      ]
    },
    {
      "cell_type": "code",
      "source": [
        "# number of fetures\n",
        "len(df.columns)"
      ],
      "metadata": {
        "colab": {
          "base_uri": "https://localhost:8080/"
        },
        "id": "kdEk2mQSnO2H",
        "outputId": "f1ec575e-17a2-41b3-c8bd-332cb21439e4"
      },
      "execution_count": null,
      "outputs": [
        {
          "output_type": "execute_result",
          "data": {
            "text/plain": [
              "12"
            ]
          },
          "metadata": {},
          "execution_count": 11
        }
      ]
    },
    {
      "cell_type": "code",
      "source": [
        "# number of data rows\n",
        "df.count()"
      ],
      "metadata": {
        "colab": {
          "base_uri": "https://localhost:8080/"
        },
        "id": "nwbrt7hvnTwl",
        "outputId": "c2979447-d0a9-4bcd-c9b4-683f55ab6bb8"
      },
      "execution_count": null,
      "outputs": [
        {
          "output_type": "execute_result",
          "data": {
            "text/plain": [
              "918"
            ]
          },
          "metadata": {},
          "execution_count": 12
        }
      ]
    },
    {
      "cell_type": "code",
      "source": [
        "df.dtypes"
      ],
      "metadata": {
        "colab": {
          "base_uri": "https://localhost:8080/"
        },
        "id": "r65Y-_2-nVev",
        "outputId": "a88d1fed-c7ae-4587-8ac4-33d14b100190"
      },
      "execution_count": null,
      "outputs": [
        {
          "output_type": "execute_result",
          "data": {
            "text/plain": [
              "[('Age', 'int'),\n",
              " ('Sex', 'string'),\n",
              " ('ChestPainType', 'string'),\n",
              " ('RestingBP', 'int'),\n",
              " ('Cholesterol', 'int'),\n",
              " ('FastingBS', 'int'),\n",
              " ('RestingECG', 'string'),\n",
              " ('MaxHR', 'int'),\n",
              " ('ExerciseAngina', 'string'),\n",
              " ('Oldpeak', 'double'),\n",
              " ('ST_Slope', 'string'),\n",
              " ('HeartDisease', 'int')]"
            ]
          },
          "metadata": {},
          "execution_count": 13
        }
      ]
    },
    {
      "cell_type": "markdown",
      "source": [
        "## 3. Show, Add and Drop a Specific Column"
      ],
      "metadata": {
        "id": "2iQWpe88rrrZ"
      }
    },
    {
      "cell_type": "code",
      "source": [
        "df.select('Age').show(10)"
      ],
      "metadata": {
        "colab": {
          "base_uri": "https://localhost:8080/"
        },
        "id": "Ruy50aTNpeJK",
        "outputId": "d83ff592-f96a-465f-b125-be10d6539bcc"
      },
      "execution_count": null,
      "outputs": [
        {
          "output_type": "stream",
          "name": "stdout",
          "text": [
            "+---+\n",
            "|Age|\n",
            "+---+\n",
            "| 40|\n",
            "| 49|\n",
            "| 37|\n",
            "| 48|\n",
            "| 54|\n",
            "| 39|\n",
            "| 45|\n",
            "| 54|\n",
            "| 37|\n",
            "| 48|\n",
            "+---+\n",
            "only showing top 10 rows\n",
            "\n"
          ]
        }
      ]
    },
    {
      "cell_type": "code",
      "source": [
        "# add new column\n",
        "df = df.withColumn('Age 2023', df['Age']+2)\n",
        "df.show(5)"
      ],
      "metadata": {
        "colab": {
          "base_uri": "https://localhost:8080/"
        },
        "id": "YkGb4cYYq1zu",
        "outputId": "88cdae70-15b1-4c12-de5b-ac7720003122"
      },
      "execution_count": null,
      "outputs": [
        {
          "output_type": "stream",
          "name": "stdout",
          "text": [
            "+---+---+-------------+---------+-----------+---------+----------+-----+--------------+-------+--------+------------+--------+\n",
            "|Age|Sex|ChestPainType|RestingBP|Cholesterol|FastingBS|RestingECG|MaxHR|ExerciseAngina|Oldpeak|ST_Slope|HeartDisease|Age 2023|\n",
            "+---+---+-------------+---------+-----------+---------+----------+-----+--------------+-------+--------+------------+--------+\n",
            "| 40|  M|          ATA|      140|        289|        0|    Normal|  172|             N|    0.0|      Up|           0|      42|\n",
            "| 49|  F|          NAP|      160|        180|        0|    Normal|  156|             N|    1.0|    Flat|           1|      51|\n",
            "| 37|  M|          ATA|      130|        283|        0|        ST|   98|             N|    0.0|      Up|           0|      39|\n",
            "| 48|  F|          ASY|      138|        214|        0|    Normal|  108|             Y|    1.5|    Flat|           1|      50|\n",
            "| 54|  M|          NAP|      150|        195|        0|    Normal|  122|             N|    0.0|      Up|           0|      56|\n",
            "+---+---+-------------+---------+-----------+---------+----------+-----+--------------+-------+--------+------------+--------+\n",
            "only showing top 5 rows\n",
            "\n"
          ]
        }
      ]
    },
    {
      "cell_type": "code",
      "source": [
        "# remove specific column\n",
        "df = df.drop('Age 2023')\n",
        "df.show(5)"
      ],
      "metadata": {
        "colab": {
          "base_uri": "https://localhost:8080/"
        },
        "id": "aKuaBwa3sYmT",
        "outputId": "664af541-3ec5-4fe3-8f0c-d4fde2c40af1"
      },
      "execution_count": null,
      "outputs": [
        {
          "output_type": "stream",
          "name": "stdout",
          "text": [
            "+---+---+-------------+---------+-----------+---------+----------+-----+--------------+-------+--------+------------+\n",
            "|Age|Sex|ChestPainType|RestingBP|Cholesterol|FastingBS|RestingECG|MaxHR|ExerciseAngina|Oldpeak|ST_Slope|HeartDisease|\n",
            "+---+---+-------------+---------+-----------+---------+----------+-----+--------------+-------+--------+------------+\n",
            "| 40|  M|          ATA|      140|        289|        0|    Normal|  172|             N|    0.0|      Up|           0|\n",
            "| 49|  F|          NAP|      160|        180|        0|    Normal|  156|             N|    1.0|    Flat|           1|\n",
            "| 37|  M|          ATA|      130|        283|        0|        ST|   98|             N|    0.0|      Up|           0|\n",
            "| 48|  F|          ASY|      138|        214|        0|    Normal|  108|             Y|    1.5|    Flat|           1|\n",
            "| 54|  M|          NAP|      150|        195|        0|    Normal|  122|             N|    0.0|      Up|           0|\n",
            "+---+---+-------------+---------+-----------+---------+----------+-----+--------------+-------+--------+------------+\n",
            "only showing top 5 rows\n",
            "\n"
          ]
        }
      ]
    },
    {
      "cell_type": "code",
      "source": [
        "# change column name (header)\n",
        "df.withColumnRenamed('HeartDisease','stroke').show(3)"
      ],
      "metadata": {
        "colab": {
          "base_uri": "https://localhost:8080/"
        },
        "id": "fyh_y-YBs1Q2",
        "outputId": "a1f6db46-ff74-4234-840b-79475d73dfdf"
      },
      "execution_count": null,
      "outputs": [
        {
          "output_type": "stream",
          "name": "stdout",
          "text": [
            "+---+---+-------------+---------+-----------+---------+----------+-----+--------------+-------+--------+------+\n",
            "|Age|Sex|ChestPainType|RestingBP|Cholesterol|FastingBS|RestingECG|MaxHR|ExerciseAngina|Oldpeak|ST_Slope|stroke|\n",
            "+---+---+-------------+---------+-----------+---------+----------+-----+--------------+-------+--------+------+\n",
            "| 40|  M|          ATA|      140|        289|        0|    Normal|  172|             N|    0.0|      Up|     0|\n",
            "| 49|  F|          NAP|      160|        180|        0|    Normal|  156|             N|    1.0|    Flat|     1|\n",
            "| 37|  M|          ATA|      130|        283|        0|        ST|   98|             N|    0.0|      Up|     0|\n",
            "+---+---+-------------+---------+-----------+---------+----------+-----+--------------+-------+--------+------+\n",
            "only showing top 3 rows\n",
            "\n"
          ]
        }
      ]
    },
    {
      "cell_type": "markdown",
      "source": [
        "## 4. Query in pyspark"
      ],
      "metadata": {
        "id": "rVwK59_LuC0e"
      }
    },
    {
      "cell_type": "code",
      "source": [
        "df[df['Age']>65].show(3)"
      ],
      "metadata": {
        "colab": {
          "base_uri": "https://localhost:8080/"
        },
        "id": "Abua3fidta1F",
        "outputId": "3b749947-cef3-4df0-da1b-6af70f0982eb"
      },
      "execution_count": null,
      "outputs": [
        {
          "output_type": "stream",
          "name": "stdout",
          "text": [
            "+---+---+-------------+---------+-----------+---------+----------+-----+--------------+-------+--------+------------+\n",
            "|Age|Sex|ChestPainType|RestingBP|Cholesterol|FastingBS|RestingECG|MaxHR|ExerciseAngina|Oldpeak|ST_Slope|HeartDisease|\n",
            "+---+---+-------------+---------+-----------+---------+----------+-----+--------------+-------+--------+------------+\n",
            "| 66|  M|          ASY|      140|        139|        0|    Normal|   94|             Y|    1.0|    Flat|           1|\n",
            "| 74|  M|          ATA|      145|          0|        1|        ST|  123|             N|    1.3|      Up|           1|\n",
            "| 68|  M|          ASY|      145|          0|        1|    Normal|  136|             N|    1.8|      Up|           1|\n",
            "+---+---+-------------+---------+-----------+---------+----------+-----+--------------+-------+--------+------------+\n",
            "only showing top 3 rows\n",
            "\n"
          ]
        }
      ]
    },
    {
      "cell_type": "code",
      "source": [
        "from pyspark.sql.functions import col\n",
        "\n",
        "filtered_df = df.filter((col('Age') > 65) & (col('Sex') == 'M'))\n",
        "filtered_df.show(3)"
      ],
      "metadata": {
        "colab": {
          "base_uri": "https://localhost:8080/"
        },
        "id": "UM4-fgMNulqy",
        "outputId": "27cc201e-b69a-4a0d-a11d-f5270d952700"
      },
      "execution_count": null,
      "outputs": [
        {
          "output_type": "stream",
          "name": "stdout",
          "text": [
            "+---+---+-------------+---------+-----------+---------+----------+-----+--------------+-------+--------+------------+\n",
            "|Age|Sex|ChestPainType|RestingBP|Cholesterol|FastingBS|RestingECG|MaxHR|ExerciseAngina|Oldpeak|ST_Slope|HeartDisease|\n",
            "+---+---+-------------+---------+-----------+---------+----------+-----+--------------+-------+--------+------------+\n",
            "| 66|  M|          ASY|      140|        139|        0|    Normal|   94|             Y|    1.0|    Flat|           1|\n",
            "| 74|  M|          ATA|      145|          0|        1|        ST|  123|             N|    1.3|      Up|           1|\n",
            "| 68|  M|          ASY|      145|          0|        1|    Normal|  136|             N|    1.8|      Up|           1|\n",
            "+---+---+-------------+---------+-----------+---------+----------+-----+--------------+-------+--------+------------+\n",
            "only showing top 3 rows\n",
            "\n"
          ]
        }
      ]
    },
    {
      "cell_type": "code",
      "source": [
        "df.filter('Age>60').show(3)"
      ],
      "metadata": {
        "colab": {
          "base_uri": "https://localhost:8080/"
        },
        "id": "rBj2tEVF2rc_",
        "outputId": "12df6e50-b514-4baa-a1d8-85863fdf4fd0"
      },
      "execution_count": null,
      "outputs": [
        {
          "output_type": "stream",
          "name": "stdout",
          "text": [
            "+---+---+-------------+---------+-----------+---------+----------+-----+--------------+-------+--------+------------+\n",
            "|Age|Sex|ChestPainType|RestingBP|Cholesterol|FastingBS|RestingECG|MaxHR|ExerciseAngina|Oldpeak|ST_Slope|HeartDisease|\n",
            "+---+---+-------------+---------+-----------+---------+----------+-----+--------------+-------+--------+------------+\n",
            "| 65|  M|          ASY|      140|        306|        1|    Normal|   87|             Y|    1.5|    Flat|           1|\n",
            "| 63|  M|          ASY|      150|        223|        0|    Normal|  115|             N|    0.0|    Flat|           1|\n",
            "| 66|  M|          ASY|      140|        139|        0|    Normal|   94|             Y|    1.0|    Flat|           1|\n",
            "+---+---+-------------+---------+-----------+---------+----------+-----+--------------+-------+--------+------------+\n",
            "only showing top 3 rows\n",
            "\n"
          ]
        }
      ]
    },
    {
      "cell_type": "code",
      "source": [
        "df.where((df['Age']>60) & (df['Sex']=='M')).show(3)"
      ],
      "metadata": {
        "colab": {
          "base_uri": "https://localhost:8080/"
        },
        "id": "DqzuNeaJ2vGn",
        "outputId": "cb713c44-a40d-4e3a-8102-a9711d84ce01"
      },
      "execution_count": null,
      "outputs": [
        {
          "output_type": "stream",
          "name": "stdout",
          "text": [
            "+---+---+-------------+---------+-----------+---------+----------+-----+--------------+-------+--------+------------+\n",
            "|Age|Sex|ChestPainType|RestingBP|Cholesterol|FastingBS|RestingECG|MaxHR|ExerciseAngina|Oldpeak|ST_Slope|HeartDisease|\n",
            "+---+---+-------------+---------+-----------+---------+----------+-----+--------------+-------+--------+------------+\n",
            "| 65|  M|          ASY|      140|        306|        1|    Normal|   87|             Y|    1.5|    Flat|           1|\n",
            "| 63|  M|          ASY|      150|        223|        0|    Normal|  115|             N|    0.0|    Flat|           1|\n",
            "| 66|  M|          ASY|      140|        139|        0|    Normal|   94|             Y|    1.0|    Flat|           1|\n",
            "+---+---+-------------+---------+-----------+---------+----------+-----+--------------+-------+--------+------------+\n",
            "only showing top 3 rows\n",
            "\n"
          ]
        }
      ]
    },
    {
      "cell_type": "markdown",
      "source": [
        "## 5. Statistical Analysis"
      ],
      "metadata": {
        "id": "Q1SPB3CvG03Y"
      }
    },
    {
      "cell_type": "code",
      "source": [
        "df.describe().show()"
      ],
      "metadata": {
        "colab": {
          "base_uri": "https://localhost:8080/"
        },
        "id": "syfIZ98MGLhT",
        "outputId": "bf7068b2-54ef-4a02-e352-c91b4f4d7505"
      },
      "execution_count": null,
      "outputs": [
        {
          "output_type": "stream",
          "name": "stdout",
          "text": [
            "+-------+------------------+----+-------------+------------------+------------------+-------------------+----------+------------------+--------------+------------------+--------+-------------------+\n",
            "|summary|               Age| Sex|ChestPainType|         RestingBP|       Cholesterol|          FastingBS|RestingECG|             MaxHR|ExerciseAngina|           Oldpeak|ST_Slope|       HeartDisease|\n",
            "+-------+------------------+----+-------------+------------------+------------------+-------------------+----------+------------------+--------------+------------------+--------+-------------------+\n",
            "|  count|               918| 918|          918|               918|               918|                918|       918|               918|           918|               918|     918|                918|\n",
            "|   mean|53.510893246187365|NULL|         NULL|132.39651416122004| 198.7995642701525|0.23311546840958605|      NULL|136.80936819172112|          NULL|0.8873638344226581|    NULL| 0.5533769063180828|\n",
            "| stddev|  9.43261650673202|NULL|         NULL|18.514154119907808|109.38414455220345|0.42304562473930296|      NULL| 25.46033413825029|          NULL|1.0665701510493264|    NULL|0.49741373828459706|\n",
            "|    min|                28|   F|          ASY|                 0|                 0|                  0|       LVH|                60|             N|              -2.6|    Down|                  0|\n",
            "|    max|                77|   M|           TA|               200|               603|                  1|        ST|               202|             Y|               6.2|      Up|                  1|\n",
            "+-------+------------------+----+-------------+------------------+------------------+-------------------+----------+------------------+--------------+------------------+--------+-------------------+\n",
            "\n"
          ]
        }
      ]
    },
    {
      "cell_type": "code",
      "source": [
        "# change data type\n",
        "from pyspark.sql.types import FloatType, IntegerType\n",
        "\n",
        "df = df.withColumn('Age', df['Age'].cast(FloatType()))\n",
        "df.printSchema()"
      ],
      "metadata": {
        "colab": {
          "base_uri": "https://localhost:8080/"
        },
        "id": "dUsVfCxZGnfY",
        "outputId": "ae42a820-de0b-4ac6-bb90-b93c8084d497"
      },
      "execution_count": null,
      "outputs": [
        {
          "output_type": "stream",
          "name": "stdout",
          "text": [
            "root\n",
            " |-- Age: float (nullable = true)\n",
            " |-- Sex: string (nullable = true)\n",
            " |-- ChestPainType: string (nullable = true)\n",
            " |-- RestingBP: integer (nullable = true)\n",
            " |-- Cholesterol: integer (nullable = true)\n",
            " |-- FastingBS: integer (nullable = true)\n",
            " |-- RestingECG: string (nullable = true)\n",
            " |-- MaxHR: integer (nullable = true)\n",
            " |-- ExerciseAngina: string (nullable = true)\n",
            " |-- Oldpeak: double (nullable = true)\n",
            " |-- ST_Slope: string (nullable = true)\n",
            " |-- HeartDisease: integer (nullable = true)\n",
            "\n"
          ]
        }
      ]
    },
    {
      "cell_type": "markdown",
      "source": [
        "## 6. Convert Spark Dataframe to Pandas DataFrame and Inversely"
      ],
      "metadata": {
        "id": "cLYuRIZZI6cQ"
      }
    },
    {
      "cell_type": "code",
      "source": [
        "# spark to pandas\n",
        "pd_df = df.toPandas()\n"
      ],
      "metadata": {
        "id": "npuvB8r6ILok"
      },
      "execution_count": null,
      "outputs": []
    },
    {
      "cell_type": "code",
      "source": [
        "type(pd_df)"
      ],
      "metadata": {
        "colab": {
          "base_uri": "https://localhost:8080/",
          "height": 203
        },
        "id": "CH_ar8mEKCQk",
        "outputId": "2ffd65ac-2d49-4885-b1b5-268ee9f92c85"
      },
      "execution_count": null,
      "outputs": [
        {
          "output_type": "execute_result",
          "data": {
            "text/plain": [
              "pandas.core.frame.DataFrame"
            ],
            "text/html": [
              "<div style=\"max-width:800px; border: 1px solid var(--colab-border-color);\"><style>\n",
              "      pre.function-repr-contents {\n",
              "        overflow-x: auto;\n",
              "        padding: 8px 12px;\n",
              "        max-height: 500px;\n",
              "      }\n",
              "\n",
              "      pre.function-repr-contents.function-repr-contents-collapsed {\n",
              "        cursor: pointer;\n",
              "        max-height: 100px;\n",
              "      }\n",
              "    </style>\n",
              "    <pre style=\"white-space: initial; background:\n",
              "         var(--colab-secondary-surface-color); padding: 8px 12px;\n",
              "         border-bottom: 1px solid var(--colab-border-color);\"><b>pandas.core.frame.DataFrame</b><br/>def __init__(data=None, index: Axes | None=None, columns: Axes | None=None, dtype: Dtype | None=None, copy: bool | None=None) -&gt; None</pre><pre class=\"function-repr-contents function-repr-contents-collapsed\" style=\"\"><a class=\"filepath\" style=\"display:none\" href=\"#\">/usr/local/lib/python3.10/dist-packages/pandas/core/frame.py</a>Two-dimensional, size-mutable, potentially heterogeneous tabular data.\n",
              "\n",
              "Data structure also contains labeled axes (rows and columns).\n",
              "Arithmetic operations align on both row and column labels. Can be\n",
              "thought of as a dict-like container for Series objects. The primary\n",
              "pandas data structure.\n",
              "\n",
              "Parameters\n",
              "----------\n",
              "data : ndarray (structured or homogeneous), Iterable, dict, or DataFrame\n",
              "    Dict can contain Series, arrays, constants, dataclass or list-like objects. If\n",
              "    data is a dict, column order follows insertion-order. If a dict contains Series\n",
              "    which have an index defined, it is aligned by its index. This alignment also\n",
              "    occurs if data is a Series or a DataFrame itself. Alignment is done on\n",
              "    Series/DataFrame inputs.\n",
              "\n",
              "    If data is a list of dicts, column order follows insertion-order.\n",
              "\n",
              "index : Index or array-like\n",
              "    Index to use for resulting frame. Will default to RangeIndex if\n",
              "    no indexing information part of input data and no index provided.\n",
              "columns : Index or array-like\n",
              "    Column labels to use for resulting frame when data does not have them,\n",
              "    defaulting to RangeIndex(0, 1, 2, ..., n). If data contains column labels,\n",
              "    will perform column selection instead.\n",
              "dtype : dtype, default None\n",
              "    Data type to force. Only a single dtype is allowed. If None, infer.\n",
              "copy : bool or None, default None\n",
              "    Copy data from inputs.\n",
              "    For dict data, the default of None behaves like ``copy=True``.  For DataFrame\n",
              "    or 2d ndarray input, the default of None behaves like ``copy=False``.\n",
              "    If data is a dict containing one or more Series (possibly of different dtypes),\n",
              "    ``copy=False`` will ensure that these inputs are not copied.\n",
              "\n",
              "    .. versionchanged:: 1.3.0\n",
              "\n",
              "See Also\n",
              "--------\n",
              "DataFrame.from_records : Constructor from tuples, also record arrays.\n",
              "DataFrame.from_dict : From dicts of Series, arrays, or dicts.\n",
              "read_csv : Read a comma-separated values (csv) file into DataFrame.\n",
              "read_table : Read general delimited file into DataFrame.\n",
              "read_clipboard : Read text from clipboard into DataFrame.\n",
              "\n",
              "Notes\n",
              "-----\n",
              "Please reference the :ref:`User Guide &lt;basics.dataframe&gt;` for more information.\n",
              "\n",
              "Examples\n",
              "--------\n",
              "Constructing DataFrame from a dictionary.\n",
              "\n",
              "&gt;&gt;&gt; d = {&#x27;col1&#x27;: [1, 2], &#x27;col2&#x27;: [3, 4]}\n",
              "&gt;&gt;&gt; df = pd.DataFrame(data=d)\n",
              "&gt;&gt;&gt; df\n",
              "   col1  col2\n",
              "0     1     3\n",
              "1     2     4\n",
              "\n",
              "Notice that the inferred dtype is int64.\n",
              "\n",
              "&gt;&gt;&gt; df.dtypes\n",
              "col1    int64\n",
              "col2    int64\n",
              "dtype: object\n",
              "\n",
              "To enforce a single dtype:\n",
              "\n",
              "&gt;&gt;&gt; df = pd.DataFrame(data=d, dtype=np.int8)\n",
              "&gt;&gt;&gt; df.dtypes\n",
              "col1    int8\n",
              "col2    int8\n",
              "dtype: object\n",
              "\n",
              "Constructing DataFrame from a dictionary including Series:\n",
              "\n",
              "&gt;&gt;&gt; d = {&#x27;col1&#x27;: [0, 1, 2, 3], &#x27;col2&#x27;: pd.Series([2, 3], index=[2, 3])}\n",
              "&gt;&gt;&gt; pd.DataFrame(data=d, index=[0, 1, 2, 3])\n",
              "   col1  col2\n",
              "0     0   NaN\n",
              "1     1   NaN\n",
              "2     2   2.0\n",
              "3     3   3.0\n",
              "\n",
              "Constructing DataFrame from numpy ndarray:\n",
              "\n",
              "&gt;&gt;&gt; df2 = pd.DataFrame(np.array([[1, 2, 3], [4, 5, 6], [7, 8, 9]]),\n",
              "...                    columns=[&#x27;a&#x27;, &#x27;b&#x27;, &#x27;c&#x27;])\n",
              "&gt;&gt;&gt; df2\n",
              "   a  b  c\n",
              "0  1  2  3\n",
              "1  4  5  6\n",
              "2  7  8  9\n",
              "\n",
              "Constructing DataFrame from a numpy ndarray that has labeled columns:\n",
              "\n",
              "&gt;&gt;&gt; data = np.array([(1, 2, 3), (4, 5, 6), (7, 8, 9)],\n",
              "...                 dtype=[(&quot;a&quot;, &quot;i4&quot;), (&quot;b&quot;, &quot;i4&quot;), (&quot;c&quot;, &quot;i4&quot;)])\n",
              "&gt;&gt;&gt; df3 = pd.DataFrame(data, columns=[&#x27;c&#x27;, &#x27;a&#x27;])\n",
              "...\n",
              "&gt;&gt;&gt; df3\n",
              "   c  a\n",
              "0  3  1\n",
              "1  6  4\n",
              "2  9  7\n",
              "\n",
              "Constructing DataFrame from dataclass:\n",
              "\n",
              "&gt;&gt;&gt; from dataclasses import make_dataclass\n",
              "&gt;&gt;&gt; Point = make_dataclass(&quot;Point&quot;, [(&quot;x&quot;, int), (&quot;y&quot;, int)])\n",
              "&gt;&gt;&gt; pd.DataFrame([Point(0, 0), Point(0, 3), Point(2, 3)])\n",
              "   x  y\n",
              "0  0  0\n",
              "1  0  3\n",
              "2  2  3\n",
              "\n",
              "Constructing DataFrame from Series/DataFrame:\n",
              "\n",
              "&gt;&gt;&gt; ser = pd.Series([1, 2, 3], index=[&quot;a&quot;, &quot;b&quot;, &quot;c&quot;])\n",
              "&gt;&gt;&gt; df = pd.DataFrame(data=ser, index=[&quot;a&quot;, &quot;c&quot;])\n",
              "&gt;&gt;&gt; df\n",
              "   0\n",
              "a  1\n",
              "c  3\n",
              "\n",
              "&gt;&gt;&gt; df1 = pd.DataFrame([1, 2, 3], index=[&quot;a&quot;, &quot;b&quot;, &quot;c&quot;], columns=[&quot;x&quot;])\n",
              "&gt;&gt;&gt; df2 = pd.DataFrame(data=df1, index=[&quot;a&quot;, &quot;c&quot;])\n",
              "&gt;&gt;&gt; df2\n",
              "   x\n",
              "a  1\n",
              "c  3</pre>\n",
              "      <script>\n",
              "      if (google.colab.kernel.accessAllowed && google.colab.files && google.colab.files.view) {\n",
              "        for (const element of document.querySelectorAll('.filepath')) {\n",
              "          element.style.display = 'block'\n",
              "          element.onclick = (event) => {\n",
              "            event.preventDefault();\n",
              "            event.stopPropagation();\n",
              "            google.colab.files.view(element.textContent, 491);\n",
              "          };\n",
              "        }\n",
              "      }\n",
              "      for (const element of document.querySelectorAll('.function-repr-contents')) {\n",
              "        element.onclick = (event) => {\n",
              "          event.preventDefault();\n",
              "          event.stopPropagation();\n",
              "          element.classList.toggle('function-repr-contents-collapsed');\n",
              "        };\n",
              "      }\n",
              "      </script>\n",
              "      </div>"
            ]
          },
          "metadata": {},
          "execution_count": 25
        }
      ]
    },
    {
      "cell_type": "code",
      "source": [
        "# pandas to spark\n",
        "sp_df = spark.createDataFrame(pd_df)"
      ],
      "metadata": {
        "id": "u1Z5cy2hJThR"
      },
      "execution_count": null,
      "outputs": []
    },
    {
      "cell_type": "code",
      "source": [
        "type(sp_df)"
      ],
      "metadata": {
        "colab": {
          "base_uri": "https://localhost:8080/",
          "height": 186
        },
        "id": "gWvk7uMzKGvq",
        "outputId": "28d7f57b-b0bc-45fc-b5af-c5d303e543ea"
      },
      "execution_count": null,
      "outputs": [
        {
          "output_type": "execute_result",
          "data": {
            "text/plain": [
              "pyspark.sql.dataframe.DataFrame"
            ],
            "text/html": [
              "<div style=\"max-width:800px; border: 1px solid var(--colab-border-color);\"><style>\n",
              "      pre.function-repr-contents {\n",
              "        overflow-x: auto;\n",
              "        padding: 8px 12px;\n",
              "        max-height: 500px;\n",
              "      }\n",
              "\n",
              "      pre.function-repr-contents.function-repr-contents-collapsed {\n",
              "        cursor: pointer;\n",
              "        max-height: 100px;\n",
              "      }\n",
              "    </style>\n",
              "    <pre style=\"white-space: initial; background:\n",
              "         var(--colab-secondary-surface-color); padding: 8px 12px;\n",
              "         border-bottom: 1px solid var(--colab-border-color);\"><b>pyspark.sql.dataframe.DataFrame</b><br/>def __init__(jdf: JavaObject, sql_ctx: Union[&#x27;SQLContext&#x27;, &#x27;SparkSession&#x27;])</pre><pre class=\"function-repr-contents function-repr-contents-collapsed\" style=\"\"><a class=\"filepath\" style=\"display:none\" href=\"#\">/usr/local/lib/python3.10/dist-packages/pyspark/sql/dataframe.py</a>A distributed collection of data grouped into named columns.\n",
              "\n",
              ".. versionadded:: 1.3.0\n",
              "\n",
              ".. versionchanged:: 3.4.0\n",
              "    Supports Spark Connect.\n",
              "\n",
              "Examples\n",
              "--------\n",
              "A :class:`DataFrame` is equivalent to a relational table in Spark SQL,\n",
              "and can be created using various functions in :class:`SparkSession`:\n",
              "\n",
              "&gt;&gt;&gt; people = spark.createDataFrame([\n",
              "...     {&quot;deptId&quot;: 1, &quot;age&quot;: 40, &quot;name&quot;: &quot;Hyukjin Kwon&quot;, &quot;gender&quot;: &quot;M&quot;, &quot;salary&quot;: 50},\n",
              "...     {&quot;deptId&quot;: 1, &quot;age&quot;: 50, &quot;name&quot;: &quot;Takuya Ueshin&quot;, &quot;gender&quot;: &quot;M&quot;, &quot;salary&quot;: 100},\n",
              "...     {&quot;deptId&quot;: 2, &quot;age&quot;: 60, &quot;name&quot;: &quot;Xinrong Meng&quot;, &quot;gender&quot;: &quot;F&quot;, &quot;salary&quot;: 150},\n",
              "...     {&quot;deptId&quot;: 3, &quot;age&quot;: 20, &quot;name&quot;: &quot;Haejoon Lee&quot;, &quot;gender&quot;: &quot;M&quot;, &quot;salary&quot;: 200}\n",
              "... ])\n",
              "\n",
              "Once created, it can be manipulated using the various domain-specific-language\n",
              "(DSL) functions defined in: :class:`DataFrame`, :class:`Column`.\n",
              "\n",
              "To select a column from the :class:`DataFrame`, use the apply method:\n",
              "\n",
              "&gt;&gt;&gt; age_col = people.age\n",
              "\n",
              "A more concrete example:\n",
              "\n",
              "&gt;&gt;&gt; # To create DataFrame using SparkSession\n",
              "... department = spark.createDataFrame([\n",
              "...     {&quot;id&quot;: 1, &quot;name&quot;: &quot;PySpark&quot;},\n",
              "...     {&quot;id&quot;: 2, &quot;name&quot;: &quot;ML&quot;},\n",
              "...     {&quot;id&quot;: 3, &quot;name&quot;: &quot;Spark SQL&quot;}\n",
              "... ])\n",
              "\n",
              "&gt;&gt;&gt; people.filter(people.age &gt; 30).join(\n",
              "...     department, people.deptId == department.id).groupBy(\n",
              "...     department.name, &quot;gender&quot;).agg({&quot;salary&quot;: &quot;avg&quot;, &quot;age&quot;: &quot;max&quot;}).show()\n",
              "+-------+------+-----------+--------+\n",
              "|   name|gender|avg(salary)|max(age)|\n",
              "+-------+------+-----------+--------+\n",
              "|     ML|     F|      150.0|      60|\n",
              "|PySpark|     M|       75.0|      50|\n",
              "+-------+------+-----------+--------+\n",
              "\n",
              "Notes\n",
              "-----\n",
              "A DataFrame should only be created as described above. It should not be directly\n",
              "created via using the constructor.</pre>\n",
              "      <script>\n",
              "      if (google.colab.kernel.accessAllowed && google.colab.files && google.colab.files.view) {\n",
              "        for (const element of document.querySelectorAll('.filepath')) {\n",
              "          element.style.display = 'block'\n",
              "          element.onclick = (event) => {\n",
              "            event.preventDefault();\n",
              "            event.stopPropagation();\n",
              "            google.colab.files.view(element.textContent, 80);\n",
              "          };\n",
              "        }\n",
              "      }\n",
              "      for (const element of document.querySelectorAll('.function-repr-contents')) {\n",
              "        element.onclick = (event) => {\n",
              "          event.preventDefault();\n",
              "          event.stopPropagation();\n",
              "          element.classList.toggle('function-repr-contents-collapsed');\n",
              "        };\n",
              "      }\n",
              "      </script>\n",
              "      </div>"
            ]
          },
          "metadata": {},
          "execution_count": 27
        }
      ]
    },
    {
      "cell_type": "markdown",
      "source": [
        "## 7. Missing Value Handling"
      ],
      "metadata": {
        "id": "hBl3HfY6K_YU"
      }
    },
    {
      "cell_type": "code",
      "source": [
        "data = [\n",
        "    ('James', 'M', 1, None),\n",
        "    ('Anna', 'F', None, None),\n",
        "    ('Ali', 'M', 1, 'NY'),\n",
        "    ('Sara', 'F', None, 'LS'),\n",
        "    (None, 'M', 1, None),\n",
        "    (None, None, None, None),\n",
        "]\n",
        "\n",
        "columns = ['name','sex', 'marriage','state']\n",
        "\n",
        "df_temp = spark.createDataFrame(data,columns)\n",
        "df_temp.show()"
      ],
      "metadata": {
        "colab": {
          "base_uri": "https://localhost:8080/"
        },
        "id": "y6LSsUhGKeqK",
        "outputId": "1aa69b65-96e2-43dc-c8d1-6f3d4cb3b3e4"
      },
      "execution_count": null,
      "outputs": [
        {
          "output_type": "stream",
          "name": "stdout",
          "text": [
            "+-----+----+--------+-----+\n",
            "| name| sex|marriage|state|\n",
            "+-----+----+--------+-----+\n",
            "|James|   M|       1| NULL|\n",
            "| Anna|   F|    NULL| NULL|\n",
            "|  Ali|   M|       1|   NY|\n",
            "| Sara|   F|    NULL|   LS|\n",
            "| NULL|   M|       1| NULL|\n",
            "| NULL|NULL|    NULL| NULL|\n",
            "+-----+----+--------+-----+\n",
            "\n"
          ]
        }
      ]
    },
    {
      "cell_type": "code",
      "source": [
        "# drop null rows\n",
        "df_temp.na.drop(how='all').show()"
      ],
      "metadata": {
        "colab": {
          "base_uri": "https://localhost:8080/"
        },
        "id": "n4foGLJONN7E",
        "outputId": "b71a482a-e152-49a3-9992-dc5141e3c8b1"
      },
      "execution_count": null,
      "outputs": [
        {
          "output_type": "stream",
          "name": "stdout",
          "text": [
            "+-----+---+--------+-----+\n",
            "| name|sex|marriage|state|\n",
            "+-----+---+--------+-----+\n",
            "|James|  M|       1| NULL|\n",
            "| Anna|  F|    NULL| NULL|\n",
            "|  Ali|  M|       1|   NY|\n",
            "| Sara|  F|    NULL|   LS|\n",
            "| NULL|  M|       1| NULL|\n",
            "+-----+---+--------+-----+\n",
            "\n"
          ]
        }
      ]
    },
    {
      "cell_type": "code",
      "source": [
        "# define threshold for removing null values\n",
        "df_temp.na.drop(thresh=1).show()"
      ],
      "metadata": {
        "colab": {
          "base_uri": "https://localhost:8080/"
        },
        "id": "nsZD6swPNehL",
        "outputId": "11aa922b-2f61-468b-e6c9-59d194c1be39"
      },
      "execution_count": null,
      "outputs": [
        {
          "output_type": "stream",
          "name": "stdout",
          "text": [
            "+-----+---+--------+-----+\n",
            "| name|sex|marriage|state|\n",
            "+-----+---+--------+-----+\n",
            "|James|  M|       1| NULL|\n",
            "| Anna|  F|    NULL| NULL|\n",
            "|  Ali|  M|       1|   NY|\n",
            "| Sara|  F|    NULL|   LS|\n",
            "| NULL|  M|       1| NULL|\n",
            "+-----+---+--------+-----+\n",
            "\n"
          ]
        }
      ]
    },
    {
      "cell_type": "code",
      "source": [
        "# fill missing value with a specific value\n",
        "df_temp.na.fill(value = 'x' , subset =['name', 'Sex']).show()"
      ],
      "metadata": {
        "colab": {
          "base_uri": "https://localhost:8080/"
        },
        "id": "4lAk6LTaNpBL",
        "outputId": "771103ab-7d92-4b00-9a9f-434bf79617c6"
      },
      "execution_count": null,
      "outputs": [
        {
          "output_type": "stream",
          "name": "stdout",
          "text": [
            "+-----+---+--------+-----+\n",
            "| name|sex|marriage|state|\n",
            "+-----+---+--------+-----+\n",
            "|James|  M|       1| NULL|\n",
            "| Anna|  F|    NULL| NULL|\n",
            "|  Ali|  M|       1|   NY|\n",
            "| Sara|  F|    NULL|   LS|\n",
            "|    x|  M|       1| NULL|\n",
            "|    x|  x|    NULL| NULL|\n",
            "+-----+---+--------+-----+\n",
            "\n"
          ]
        }
      ]
    },
    {
      "cell_type": "code",
      "source": [
        "# fill missing value with imputation different parameter\n",
        "from pyspark.ml.feature import Imputer\n",
        "\n",
        "imputer = Imputer(inputCol='marriage', outputCol='marriage').setStrategy('mode')\n",
        "\n",
        "imputer.fit(df_temp).transform(df_temp).show()"
      ],
      "metadata": {
        "colab": {
          "base_uri": "https://localhost:8080/"
        },
        "id": "06a3uZRgO6IR",
        "outputId": "9eb384a3-fa33-4df1-d50e-15aa84c64e38"
      },
      "execution_count": null,
      "outputs": [
        {
          "output_type": "stream",
          "name": "stdout",
          "text": [
            "+-----+----+--------+-----+\n",
            "| name| sex|marriage|state|\n",
            "+-----+----+--------+-----+\n",
            "|James|   M|       1| NULL|\n",
            "| Anna|   F|       1| NULL|\n",
            "|  Ali|   M|       1|   NY|\n",
            "| Sara|   F|       1|   LS|\n",
            "| NULL|   M|       1| NULL|\n",
            "| NULL|NULL|       1| NULL|\n",
            "+-----+----+--------+-----+\n",
            "\n"
          ]
        }
      ]
    },
    {
      "cell_type": "markdown",
      "source": [
        "## 8. Grouby and Orderby"
      ],
      "metadata": {
        "id": "w29PMp1MSqzU"
      }
    },
    {
      "cell_type": "code",
      "source": [
        "df.show(5)"
      ],
      "metadata": {
        "colab": {
          "base_uri": "https://localhost:8080/"
        },
        "id": "5JWIeYwpPjx7",
        "outputId": "8f01a0b1-4952-43fa-db16-e535db56f384"
      },
      "execution_count": null,
      "outputs": [
        {
          "output_type": "stream",
          "name": "stdout",
          "text": [
            "+----+---+-------------+---------+-----------+---------+----------+-----+--------------+-------+--------+------------+\n",
            "| Age|Sex|ChestPainType|RestingBP|Cholesterol|FastingBS|RestingECG|MaxHR|ExerciseAngina|Oldpeak|ST_Slope|HeartDisease|\n",
            "+----+---+-------------+---------+-----------+---------+----------+-----+--------------+-------+--------+------------+\n",
            "|40.0|  M|          ATA|      140|        289|        0|    Normal|  172|             N|    0.0|      Up|           0|\n",
            "|49.0|  F|          NAP|      160|        180|        0|    Normal|  156|             N|    1.0|    Flat|           1|\n",
            "|37.0|  M|          ATA|      130|        283|        0|        ST|   98|             N|    0.0|      Up|           0|\n",
            "|48.0|  F|          ASY|      138|        214|        0|    Normal|  108|             Y|    1.5|    Flat|           1|\n",
            "|54.0|  M|          NAP|      150|        195|        0|    Normal|  122|             N|    0.0|      Up|           0|\n",
            "+----+---+-------------+---------+-----------+---------+----------+-----+--------------+-------+--------+------------+\n",
            "only showing top 5 rows\n",
            "\n"
          ]
        }
      ]
    },
    {
      "cell_type": "code",
      "source": [
        "df.groupBy('Sex').count().show()"
      ],
      "metadata": {
        "colab": {
          "base_uri": "https://localhost:8080/"
        },
        "id": "HG6Of6VFT0Jh",
        "outputId": "d6a2dbfa-adc4-4a6f-f22d-9c878daf5de6"
      },
      "execution_count": null,
      "outputs": [
        {
          "output_type": "stream",
          "name": "stdout",
          "text": [
            "+---+-----+\n",
            "|Sex|count|\n",
            "+---+-----+\n",
            "|  F|  193|\n",
            "|  M|  725|\n",
            "+---+-----+\n",
            "\n"
          ]
        }
      ]
    },
    {
      "cell_type": "code",
      "source": [
        "df.groupBy('Age').count().show(5)"
      ],
      "metadata": {
        "colab": {
          "base_uri": "https://localhost:8080/"
        },
        "id": "XTCYqs9ET714",
        "outputId": "cfe94a17-c3e7-4c20-f1d5-6e7d6e1f275f"
      },
      "execution_count": null,
      "outputs": [
        {
          "output_type": "stream",
          "name": "stdout",
          "text": [
            "+----+-----+\n",
            "| Age|count|\n",
            "+----+-----+\n",
            "|64.0|   22|\n",
            "|47.0|   19|\n",
            "|58.0|   42|\n",
            "|39.0|   15|\n",
            "|30.0|    1|\n",
            "+----+-----+\n",
            "only showing top 5 rows\n",
            "\n"
          ]
        }
      ]
    },
    {
      "cell_type": "code",
      "source": [
        "df.groupBy('Age').mean('Cholesterol').show(5)"
      ],
      "metadata": {
        "colab": {
          "base_uri": "https://localhost:8080/"
        },
        "id": "4DfiUkSlUAgZ",
        "outputId": "72fc2d94-9b08-4db1-ae60-31c1f3d72b1c"
      },
      "execution_count": null,
      "outputs": [
        {
          "output_type": "stream",
          "name": "stdout",
          "text": [
            "+----+------------------+\n",
            "| Age|  avg(Cholesterol)|\n",
            "+----+------------------+\n",
            "|64.0| 205.3181818181818|\n",
            "|47.0|193.42105263157896|\n",
            "|58.0|217.28571428571428|\n",
            "|39.0|             239.2|\n",
            "|30.0|             237.0|\n",
            "+----+------------------+\n",
            "only showing top 5 rows\n",
            "\n"
          ]
        }
      ]
    },
    {
      "cell_type": "code",
      "source": [
        "# ordering groupby output\n",
        "from pyspark.sql.functions import desc,asc\n",
        "df.groupBy('Age').count().orderBy(desc('Age')).show(5)"
      ],
      "metadata": {
        "colab": {
          "base_uri": "https://localhost:8080/"
        },
        "id": "-yUg-8w_UKwX",
        "outputId": "380f9332-0e6e-4cdb-e7b6-3466a82781d1"
      },
      "execution_count": null,
      "outputs": [
        {
          "output_type": "stream",
          "name": "stdout",
          "text": [
            "+----+-----+\n",
            "| Age|count|\n",
            "+----+-----+\n",
            "|77.0|    2|\n",
            "|76.0|    2|\n",
            "|75.0|    3|\n",
            "|74.0|    7|\n",
            "|73.0|    1|\n",
            "+----+-----+\n",
            "only showing top 5 rows\n",
            "\n"
          ]
        }
      ]
    },
    {
      "cell_type": "code",
      "source": [
        "# groupby by multiple columns\n",
        "from pyspark.sql.functions import min,max, avg\n",
        "\n",
        "df.groupBy('HeartDisease').agg(avg('Cholesterol'), avg('RestingBP')).show()"
      ],
      "metadata": {
        "colab": {
          "base_uri": "https://localhost:8080/"
        },
        "id": "2i2uOHILUrAn",
        "outputId": "da625dde-911d-4c27-f757-30f8ddc988c4"
      },
      "execution_count": null,
      "outputs": [
        {
          "output_type": "stream",
          "name": "stdout",
          "text": [
            "+------------+------------------+------------------+\n",
            "|HeartDisease|  avg(Cholesterol)|    avg(RestingBP)|\n",
            "+------------+------------------+------------------+\n",
            "|           1|175.94094488188978|134.18503937007873|\n",
            "|           0| 227.1219512195122|130.18048780487806|\n",
            "+------------+------------------+------------------+\n",
            "\n"
          ]
        }
      ]
    },
    {
      "cell_type": "code",
      "source": [
        "# pivot: reshape data based on column **values**\n",
        "df.groupBy('Age').pivot('Sex',('M','F')).count().show(5)"
      ],
      "metadata": {
        "colab": {
          "base_uri": "https://localhost:8080/"
        },
        "id": "rtt0DbkR4iej",
        "outputId": "530b1dad-a2c4-44de-a2b3-4620c85d8ed2"
      },
      "execution_count": null,
      "outputs": [
        {
          "output_type": "stream",
          "name": "stdout",
          "text": [
            "+----+----+---+\n",
            "| Age|   M|  F|\n",
            "+----+----+---+\n",
            "|64.0|  16|  6|\n",
            "|47.0|  15|  4|\n",
            "|58.0|  35|  7|\n",
            "|39.0|  12|  3|\n",
            "|30.0|NULL|  1|\n",
            "+----+----+---+\n",
            "only showing top 5 rows\n",
            "\n"
          ]
        }
      ]
    },
    {
      "cell_type": "markdown",
      "source": [
        "## 9. Machine Learning Algorithms in pyspark"
      ],
      "metadata": {
        "id": "oJ875UHEage9"
      }
    },
    {
      "cell_type": "code",
      "source": [
        "df.show(5)"
      ],
      "metadata": {
        "colab": {
          "base_uri": "https://localhost:8080/"
        },
        "id": "L8Rjm7TXarFi",
        "outputId": "b0a61adb-e37a-4039-a7d9-10198cccef67"
      },
      "execution_count": null,
      "outputs": [
        {
          "output_type": "stream",
          "name": "stdout",
          "text": [
            "+----+---+-------------+---------+-----------+---------+----------+-----+--------------+-------+--------+------------+\n",
            "| Age|Sex|ChestPainType|RestingBP|Cholesterol|FastingBS|RestingECG|MaxHR|ExerciseAngina|Oldpeak|ST_Slope|HeartDisease|\n",
            "+----+---+-------------+---------+-----------+---------+----------+-----+--------------+-------+--------+------------+\n",
            "|40.0|  M|          ATA|      140|        289|        0|    Normal|  172|             N|    0.0|      Up|           0|\n",
            "|49.0|  F|          NAP|      160|        180|        0|    Normal|  156|             N|    1.0|    Flat|           1|\n",
            "|37.0|  M|          ATA|      130|        283|        0|        ST|   98|             N|    0.0|      Up|           0|\n",
            "|48.0|  F|          ASY|      138|        214|        0|    Normal|  108|             Y|    1.5|    Flat|           1|\n",
            "|54.0|  M|          NAP|      150|        195|        0|    Normal|  122|             N|    0.0|      Up|           0|\n",
            "+----+---+-------------+---------+-----------+---------+----------+-----+--------------+-------+--------+------------+\n",
            "only showing top 5 rows\n",
            "\n"
          ]
        }
      ]
    },
    {
      "cell_type": "markdown",
      "source": [
        "### Linear Regression"
      ],
      "metadata": {
        "id": "Y9MZVOzz4BrQ"
      }
    },
    {
      "cell_type": "code",
      "source": [
        "# defining features and target values\n",
        "X_col = ['Cholesterol','RestingBP','MaxHR','FastingBS']\n",
        "target_col = ['Age']"
      ],
      "metadata": {
        "id": "sn5_hl3VWZ8M"
      },
      "execution_count": null,
      "outputs": []
    },
    {
      "cell_type": "code",
      "source": [
        "# convert features to wraped vector\n",
        "from pyspark.ml.feature import VectorAssembler\n",
        "\n",
        "va = VectorAssembler(inputCols=X_col, outputCol='feature_vec3')\n",
        "df = va.transform(df)\n",
        "data = df.select(['Age','RestingBP','MaxHR','FastingBS','feature_vec3','Cholesterol'])"
      ],
      "metadata": {
        "id": "quIH3bvSeKLK"
      },
      "execution_count": null,
      "outputs": []
    },
    {
      "cell_type": "code",
      "source": [
        "data.show(5)"
      ],
      "metadata": {
        "colab": {
          "base_uri": "https://localhost:8080/"
        },
        "id": "0BwNTrfhfBI0",
        "outputId": "f64816b7-6c6c-423c-ca73-6c77da050fcf"
      },
      "execution_count": null,
      "outputs": [
        {
          "output_type": "stream",
          "name": "stdout",
          "text": [
            "+----+---------+-----+---------+--------------------+-----------+\n",
            "| Age|RestingBP|MaxHR|FastingBS|        feature_vec3|Cholesterol|\n",
            "+----+---------+-----+---------+--------------------+-----------+\n",
            "|40.0|      140|  172|        0|[289.0,140.0,172....|        289|\n",
            "|49.0|      160|  156|        0|[180.0,160.0,156....|        180|\n",
            "|37.0|      130|   98|        0|[283.0,130.0,98.0...|        283|\n",
            "|48.0|      138|  108|        0|[214.0,138.0,108....|        214|\n",
            "|54.0|      150|  122|        0|[195.0,150.0,122....|        195|\n",
            "+----+---------+-----+---------+--------------------+-----------+\n",
            "only showing top 5 rows\n",
            "\n"
          ]
        }
      ]
    },
    {
      "cell_type": "code",
      "source": [
        "# train test split\n",
        "trainset,testset = data.randomSplit([0.75,0.25])"
      ],
      "metadata": {
        "id": "O5rIfpqYfOQa"
      },
      "execution_count": null,
      "outputs": []
    },
    {
      "cell_type": "code",
      "source": [
        "from pyspark.ml.regression import LinearRegression\n",
        "lr = LinearRegression(featuresCol='feature_vec3', labelCol='Age')"
      ],
      "metadata": {
        "id": "FkgjI0XkbHeO"
      },
      "execution_count": null,
      "outputs": []
    },
    {
      "cell_type": "code",
      "source": [
        "lr = lr.fit(trainset)"
      ],
      "metadata": {
        "id": "MPeTN29-fg3S"
      },
      "execution_count": null,
      "outputs": []
    },
    {
      "cell_type": "code",
      "source": [
        "pred = lr.evaluate(testset)"
      ],
      "metadata": {
        "id": "f8Po72wZfpB4"
      },
      "execution_count": null,
      "outputs": []
    },
    {
      "cell_type": "code",
      "source": [
        "# Access and print various metrics\n",
        "print(f\"Root Mean Squared Error (RMSE): {pred.rootMeanSquaredError}\")\n",
        "print(f\"Mean Absolute Error (MAE): {pred.meanAbsoluteError}\")\n",
        "print(f\"R^2 (Coefficient of Determination): {pred.r2}\")\n",
        "print(f\"Explained Variance: {pred.explainedVariance}\")\n",
        "print(f\"Mean Squared Error (MSE): {pred.meanSquaredError}\")\n"
      ],
      "metadata": {
        "colab": {
          "base_uri": "https://localhost:8080/"
        },
        "id": "ce_ygVnNgMwS",
        "outputId": "0fa09be1-cc2f-44bf-a9c2-11e76fcd828d"
      },
      "execution_count": null,
      "outputs": [
        {
          "output_type": "stream",
          "name": "stdout",
          "text": [
            "Root Mean Squared Error (RMSE): 8.716355896022712\n",
            "Mean Absolute Error (MAE): 7.102182762889659\n",
            "R^2 (Coefficient of Determination): 0.15344419218348937\n",
            "Explained Variance: 19.930124769213556\n",
            "Mean Squared Error (MSE): 75.9748601061299\n"
          ]
        }
      ]
    },
    {
      "cell_type": "code",
      "source": [
        "# Generate predictions on the test set\n",
        "predictions = lr.transform(testset)\n",
        "\n",
        "# Show the predictions along with the actual labels\n",
        "predictions.select('feature_vec3', 'Age', 'prediction').show(3)"
      ],
      "metadata": {
        "colab": {
          "base_uri": "https://localhost:8080/"
        },
        "id": "Gu7kbaw1fxBA",
        "outputId": "4a86f494-f31c-4be1-caf8-1dc1a29f0343"
      },
      "execution_count": null,
      "outputs": [
        {
          "output_type": "stream",
          "name": "stdout",
          "text": [
            "+--------------------+----+-----------------+\n",
            "|        feature_vec3| Age|       prediction|\n",
            "+--------------------+----+-----------------+\n",
            "|[219.0,100.0,150....|31.0|47.49244600703679|\n",
            "|[225.0,110.0,184....|32.0|44.16280757608736|\n",
            "|[246.0,100.0,150....|33.0|47.49065785761302|\n",
            "+--------------------+----+-----------------+\n",
            "only showing top 3 rows\n",
            "\n"
          ]
        }
      ]
    },
    {
      "cell_type": "markdown",
      "source": [
        "### Compare LogisticRegression and RandomForest"
      ],
      "metadata": {
        "id": "vShmkDQTj2M9"
      }
    },
    {
      "cell_type": "code",
      "source": [
        "df = df.drop('feature_vec','feature_vec1','feature_vec2','feature_vec3')"
      ],
      "metadata": {
        "id": "G3gvbntBkg69"
      },
      "execution_count": null,
      "outputs": []
    },
    {
      "cell_type": "code",
      "source": [
        "x_col = ['Age','Cholesterol','RestingBP','MaxHR','FastingBS']\n",
        "y_col = ['HeartDisease']"
      ],
      "metadata": {
        "id": "huYNTdFUj67M"
      },
      "execution_count": null,
      "outputs": []
    },
    {
      "cell_type": "code",
      "source": [
        "from pyspark.ml.feature import VectorAssembler\n",
        "\n",
        "va = VectorAssembler(inputCols=x_col, outputCol='feature_vec')\n",
        "df = va.transform(df)\n",
        "data = df.select(['feature_vec','HeartDisease'])"
      ],
      "metadata": {
        "id": "AqA1Y7OWkYo_"
      },
      "execution_count": null,
      "outputs": []
    },
    {
      "cell_type": "code",
      "source": [
        "trainset, testset = data.randomSplit([0.75,0.25])"
      ],
      "metadata": {
        "id": "8hJ-wSTKp4pA"
      },
      "execution_count": null,
      "outputs": []
    },
    {
      "cell_type": "code",
      "source": [
        "from pyspark.ml.classification import RandomForestClassifier, LogisticRegression\n",
        "\n",
        "rfc = RandomForestClassifier(featuresCol='feature_vec', labelCol='HeartDisease')\n",
        "lrc = LogisticRegression(featuresCol='feature_vec', labelCol='HeartDisease')"
      ],
      "metadata": {
        "id": "jn433pwqliwf"
      },
      "execution_count": null,
      "outputs": []
    },
    {
      "cell_type": "code",
      "source": [
        "rfc = rfc.fit(trainset)\n",
        "lrc = lrc.fit(trainset)"
      ],
      "metadata": {
        "id": "drYI_bykpxoI"
      },
      "execution_count": null,
      "outputs": []
    },
    {
      "cell_type": "code",
      "source": [
        "pred_rfc = rfc.transform(testset)\n",
        "pred_lrc = lrc.transform(testset)"
      ],
      "metadata": {
        "id": "Wkc0DdqNpxk6"
      },
      "execution_count": null,
      "outputs": []
    },
    {
      "cell_type": "code",
      "source": [
        "from pyspark.ml.evaluation import BinaryClassificationEvaluator\n",
        "\n",
        "# Initialize the evaluator\n",
        "evaluator = BinaryClassificationEvaluator(labelCol=\"HeartDisease\", rawPredictionCol=\"rawPrediction\")\n",
        "\n",
        "# Evaluate the model's performance using the Area Under ROC metric\n",
        "auc_roc = evaluator.evaluate(pred_rfc, {evaluator.metricName: \"areaUnderROC\"})\n",
        "print(f\"Area Under ROC: {auc_roc}\")\n",
        "\n",
        "# Evaluate the model's performance using the Area Under PR metric\n",
        "auc_pr = evaluator.evaluate(pred_rfc, {evaluator.metricName: \"areaUnderPR\"})\n",
        "print(f\"Area Under PR: {auc_pr}\")\n"
      ],
      "metadata": {
        "colab": {
          "base_uri": "https://localhost:8080/"
        },
        "id": "-y138t59qQpB",
        "outputId": "527ebb50-8abe-42fe-93c4-ba686efc1c17"
      },
      "execution_count": null,
      "outputs": [
        {
          "output_type": "stream",
          "name": "stdout",
          "text": [
            "Area Under ROC: 0.7588149763722283\n",
            "Area Under PR: 0.8056855512770454\n"
          ]
        }
      ]
    },
    {
      "cell_type": "code",
      "source": [
        "# Evaluate the model's performance using the Area Under ROC metric\n",
        "auc_roc = evaluator.evaluate(pred_lrc, {evaluator.metricName: \"areaUnderROC\"})\n",
        "print(f\"Area Under ROC: {auc_roc}\")\n",
        "\n",
        "# Evaluate the model's performance using the Area Under PR metric\n",
        "auc_pr = evaluator.evaluate(pred_lrc, {evaluator.metricName: \"areaUnderPR\"})\n",
        "print(f\"Area Under PR: {auc_pr}\")\n"
      ],
      "metadata": {
        "colab": {
          "base_uri": "https://localhost:8080/"
        },
        "id": "a6dmsgUNsY7G",
        "outputId": "556b76b7-d1e8-48a8-f756-b7485f77eb01"
      },
      "execution_count": null,
      "outputs": [
        {
          "output_type": "stream",
          "name": "stdout",
          "text": [
            "Area Under ROC: 0.7707015630679751\n",
            "Area Under PR: 0.8176908248800365\n"
          ]
        }
      ]
    },
    {
      "cell_type": "markdown",
      "source": [
        "## 10. Convert Categorical Data to Numerical"
      ],
      "metadata": {
        "id": "KDXYNuPIyB1H"
      }
    },
    {
      "cell_type": "code",
      "source": [
        "from pyspark.ml.feature import StringIndexer\n",
        "\n",
        "sex_ind = StringIndexer(inputCol='Sex', outputCol='Sex_num')\n",
        "df_new = sex_ind.fit(df).transform(df)\n",
        "df_new.show(5)"
      ],
      "metadata": {
        "colab": {
          "base_uri": "https://localhost:8080/"
        },
        "id": "lLj1_qlJyWPW",
        "outputId": "8a88bc76-4c1b-449c-c7a9-38d58ae2dfd2"
      },
      "execution_count": null,
      "outputs": [
        {
          "output_type": "stream",
          "name": "stdout",
          "text": [
            "+----+---+-------------+---------+-----------+---------+----------+-----+--------------+-------+--------+------------+--------------------+-------+\n",
            "| Age|Sex|ChestPainType|RestingBP|Cholesterol|FastingBS|RestingECG|MaxHR|ExerciseAngina|Oldpeak|ST_Slope|HeartDisease|         feature_vec|Sex_num|\n",
            "+----+---+-------------+---------+-----------+---------+----------+-----+--------------+-------+--------+------------+--------------------+-------+\n",
            "|40.0|  M|          ATA|      140|        289|        0|    Normal|  172|             N|    0.0|      Up|           0|[40.0,289.0,140.0...|    0.0|\n",
            "|49.0|  F|          NAP|      160|        180|        0|    Normal|  156|             N|    1.0|    Flat|           1|[49.0,180.0,160.0...|    1.0|\n",
            "|37.0|  M|          ATA|      130|        283|        0|        ST|   98|             N|    0.0|      Up|           0|[37.0,283.0,130.0...|    0.0|\n",
            "|48.0|  F|          ASY|      138|        214|        0|    Normal|  108|             Y|    1.5|    Flat|           1|[48.0,214.0,138.0...|    1.0|\n",
            "|54.0|  M|          NAP|      150|        195|        0|    Normal|  122|             N|    0.0|      Up|           0|[54.0,195.0,150.0...|    0.0|\n",
            "+----+---+-------------+---------+-----------+---------+----------+-----+--------------+-------+--------+------------+--------------------+-------+\n",
            "only showing top 5 rows\n",
            "\n"
          ]
        }
      ]
    },
    {
      "cell_type": "code",
      "source": [
        "cpt_ind = StringIndexer(inputCol='ChestPainType', outputCol='ChestPainType_num')\n",
        "df_new = cpt_ind.fit(df_new).transform(df_new)\n"
      ],
      "metadata": {
        "id": "dPJjjuqRyvLd"
      },
      "execution_count": null,
      "outputs": []
    },
    {
      "cell_type": "code",
      "source": [
        "df_new.select('Sex','Sex_num','ChestPainType','ChestPainType_num').show(5)"
      ],
      "metadata": {
        "colab": {
          "base_uri": "https://localhost:8080/"
        },
        "id": "tNWNCBcXzaOp",
        "outputId": "de240e0c-0f3c-43d3-97b2-77bcc3835cbe"
      },
      "execution_count": null,
      "outputs": [
        {
          "output_type": "stream",
          "name": "stdout",
          "text": [
            "+---+-------+-------------+-----------------+\n",
            "|Sex|Sex_num|ChestPainType|ChestPainType_num|\n",
            "+---+-------+-------------+-----------------+\n",
            "|  M|    0.0|          ATA|              2.0|\n",
            "|  F|    1.0|          NAP|              1.0|\n",
            "|  M|    0.0|          ATA|              2.0|\n",
            "|  F|    1.0|          ASY|              0.0|\n",
            "|  M|    0.0|          NAP|              1.0|\n",
            "+---+-------+-------------+-----------------+\n",
            "only showing top 5 rows\n",
            "\n"
          ]
        }
      ]
    },
    {
      "cell_type": "markdown",
      "source": [
        "## 11. Join in Pyspark"
      ],
      "metadata": {
        "id": "D5zEJnbAcRSg"
      }
    },
    {
      "cell_type": "code",
      "source": [
        "from pyspark.sql.functions import monotonically_increasing_id\n",
        "\n",
        "df = df.withColumn('index', monotonically_increasing_id())\n",
        "df.show(5)"
      ],
      "metadata": {
        "colab": {
          "base_uri": "https://localhost:8080/"
        },
        "id": "m-GXBqtF0WmV",
        "outputId": "000d8a67-978e-44ba-9fa6-b8467334c664"
      },
      "execution_count": null,
      "outputs": [
        {
          "output_type": "stream",
          "name": "stdout",
          "text": [
            "+----+---+-------------+---------+-----------+---------+----------+-----+--------------+-------+--------+------------+--------------------+-----+\n",
            "| Age|Sex|ChestPainType|RestingBP|Cholesterol|FastingBS|RestingECG|MaxHR|ExerciseAngina|Oldpeak|ST_Slope|HeartDisease|         feature_vec|index|\n",
            "+----+---+-------------+---------+-----------+---------+----------+-----+--------------+-------+--------+------------+--------------------+-----+\n",
            "|40.0|  M|          ATA|      140|        289|        0|    Normal|  172|             N|    0.0|      Up|           0|[40.0,289.0,140.0...|    0|\n",
            "|49.0|  F|          NAP|      160|        180|        0|    Normal|  156|             N|    1.0|    Flat|           1|[49.0,180.0,160.0...|    1|\n",
            "|37.0|  M|          ATA|      130|        283|        0|        ST|   98|             N|    0.0|      Up|           0|[37.0,283.0,130.0...|    2|\n",
            "|48.0|  F|          ASY|      138|        214|        0|    Normal|  108|             Y|    1.5|    Flat|           1|[48.0,214.0,138.0...|    3|\n",
            "|54.0|  M|          NAP|      150|        195|        0|    Normal|  122|             N|    0.0|      Up|           0|[54.0,195.0,150.0...|    4|\n",
            "+----+---+-------------+---------+-----------+---------+----------+-----+--------------+-------+--------+------------+--------------------+-----+\n",
            "only showing top 5 rows\n",
            "\n"
          ]
        }
      ]
    },
    {
      "cell_type": "markdown",
      "source": [
        "Change order of Columns"
      ],
      "metadata": {
        "id": "-4k3B0sYzjXI"
      }
    },
    {
      "cell_type": "code",
      "source": [
        "cols = df.columns\n",
        "\n",
        "# Reorder the columns: move the last column to the first position\n",
        "df = df.select([cols[-1]] + cols[:-1])"
      ],
      "metadata": {
        "id": "ndCHOgvCzrHF"
      },
      "execution_count": null,
      "outputs": []
    },
    {
      "cell_type": "code",
      "source": [
        "df.show(5)"
      ],
      "metadata": {
        "colab": {
          "base_uri": "https://localhost:8080/"
        },
        "id": "21yXoON53pqb",
        "outputId": "0e82d555-990e-4719-b25c-9f093898db90"
      },
      "execution_count": null,
      "outputs": [
        {
          "output_type": "stream",
          "name": "stdout",
          "text": [
            "+-----+----+---+-------------+---------+-----------+---------+----------+-----+--------------+-------+--------+------------+--------------------+\n",
            "|index| Age|Sex|ChestPainType|RestingBP|Cholesterol|FastingBS|RestingECG|MaxHR|ExerciseAngina|Oldpeak|ST_Slope|HeartDisease|         feature_vec|\n",
            "+-----+----+---+-------------+---------+-----------+---------+----------+-----+--------------+-------+--------+------------+--------------------+\n",
            "|    0|40.0|  M|          ATA|      140|        289|        0|    Normal|  172|             N|    0.0|      Up|           0|[40.0,289.0,140.0...|\n",
            "|    1|49.0|  F|          NAP|      160|        180|        0|    Normal|  156|             N|    1.0|    Flat|           1|[49.0,180.0,160.0...|\n",
            "|    2|37.0|  M|          ATA|      130|        283|        0|        ST|   98|             N|    0.0|      Up|           0|[37.0,283.0,130.0...|\n",
            "|    3|48.0|  F|          ASY|      138|        214|        0|    Normal|  108|             Y|    1.5|    Flat|           1|[48.0,214.0,138.0...|\n",
            "|    4|54.0|  M|          NAP|      150|        195|        0|    Normal|  122|             N|    0.0|      Up|           0|[54.0,195.0,150.0...|\n",
            "+-----+----+---+-------------+---------+-----------+---------+----------+-----+--------------+-------+--------+------------+--------------------+\n",
            "only showing top 5 rows\n",
            "\n"
          ]
        }
      ]
    },
    {
      "cell_type": "code",
      "source": [
        "df_p = spark.read.csv('/content/patients.csv', header=True)\n",
        "df_p.show(5)"
      ],
      "metadata": {
        "colab": {
          "base_uri": "https://localhost:8080/"
        },
        "id": "C_iBOc7Y3tmu",
        "outputId": "447f7753-bdb1-4613-ffe1-b610bd6d1003"
      },
      "execution_count": null,
      "outputs": [
        {
          "output_type": "stream",
          "name": "stdout",
          "text": [
            "+---+---------+---------+\n",
            "| id|FirstName| LastName|\n",
            "+---+---------+---------+\n",
            "|  4|     Lily| Hamilton|\n",
            "|  5|   Gianna|Armstrong|\n",
            "|  6|  Arianna|    Riley|\n",
            "|  7| Caroline|   Turner|\n",
            "|  8|   Wilson|   Murray|\n",
            "+---+---------+---------+\n",
            "only showing top 5 rows\n",
            "\n"
          ]
        }
      ]
    },
    {
      "cell_type": "code",
      "source": [
        "df_p.count()"
      ],
      "metadata": {
        "colab": {
          "base_uri": "https://localhost:8080/"
        },
        "id": "r7KRD0at6WDi",
        "outputId": "ea01593c-38c1-4651-f2bd-d887be4dba77"
      },
      "execution_count": null,
      "outputs": [
        {
          "output_type": "execute_result",
          "data": {
            "text/plain": [
              "999"
            ]
          },
          "metadata": {},
          "execution_count": 74
        }
      ]
    },
    {
      "cell_type": "code",
      "source": [
        "df_join = df.join(df_p, df.index==df_p.id, how='inner')\n",
        "df_join.show(5)"
      ],
      "metadata": {
        "colab": {
          "base_uri": "https://localhost:8080/"
        },
        "id": "FBdI0cp436Tg",
        "outputId": "9ba73bab-1f7d-4762-855b-89a7da275434"
      },
      "execution_count": null,
      "outputs": [
        {
          "output_type": "stream",
          "name": "stdout",
          "text": [
            "+-----+----+---+-------------+---------+-----------+---------+----------+-----+--------------+-------+--------+------------+--------------------+---+---------+---------+\n",
            "|index| Age|Sex|ChestPainType|RestingBP|Cholesterol|FastingBS|RestingECG|MaxHR|ExerciseAngina|Oldpeak|ST_Slope|HeartDisease|         feature_vec| id|FirstName| LastName|\n",
            "+-----+----+---+-------------+---------+-----------+---------+----------+-----+--------------+-------+--------+------------+--------------------+---+---------+---------+\n",
            "|    4|54.0|  M|          NAP|      150|        195|        0|    Normal|  122|             N|    0.0|      Up|           0|[54.0,195.0,150.0...|  4|     Lily| Hamilton|\n",
            "|    5|39.0|  M|          NAP|      120|        339|        0|    Normal|  170|             N|    0.0|      Up|           0|[39.0,339.0,120.0...|  5|   Gianna|Armstrong|\n",
            "|    6|45.0|  F|          ATA|      130|        237|        0|    Normal|  170|             N|    0.0|      Up|           0|[45.0,237.0,130.0...|  6|  Arianna|    Riley|\n",
            "|    7|54.0|  M|          ATA|      110|        208|        0|    Normal|  142|             N|    0.0|      Up|           0|[54.0,208.0,110.0...|  7| Caroline|   Turner|\n",
            "|    8|37.0|  M|          ASY|      140|        207|        0|    Normal|  130|             Y|    1.5|    Flat|           1|[37.0,207.0,140.0...|  8|   Wilson|   Murray|\n",
            "+-----+----+---+-------------+---------+-----------+---------+----------+-----+--------------+-------+--------+------------+--------------------+---+---------+---------+\n",
            "only showing top 5 rows\n",
            "\n"
          ]
        }
      ]
    },
    {
      "cell_type": "code",
      "source": [
        "df_outer = df.join(df_p, df.index==df_p.id, how='outer')\n",
        "df_outer.count()"
      ],
      "metadata": {
        "colab": {
          "base_uri": "https://localhost:8080/"
        },
        "id": "TlX0gx9e6Kxe",
        "outputId": "eb55ff9c-5982-458d-a72f-def4f7f5c72a"
      },
      "execution_count": null,
      "outputs": [
        {
          "output_type": "execute_result",
          "data": {
            "text/plain": [
              "1003"
            ]
          },
          "metadata": {},
          "execution_count": 73
        }
      ]
    },
    {
      "cell_type": "code",
      "source": [
        "df_left = df.join(df_p, df.index==df_p.id, how='left')\n",
        "df_left.count()"
      ],
      "metadata": {
        "colab": {
          "base_uri": "https://localhost:8080/"
        },
        "id": "m4RTI3BU43f-",
        "outputId": "50ced05c-1363-4b6a-bdcd-cdaff1b4dfce"
      },
      "execution_count": null,
      "outputs": [
        {
          "output_type": "execute_result",
          "data": {
            "text/plain": [
              "918"
            ]
          },
          "metadata": {},
          "execution_count": 71
        }
      ]
    },
    {
      "cell_type": "code",
      "source": [
        "df_right = df.join(df_p, df.index==df_p.id, how='right')\n",
        "df_right.count()"
      ],
      "metadata": {
        "colab": {
          "base_uri": "https://localhost:8080/"
        },
        "id": "cCSUGNum6DkP",
        "outputId": "6fc2f9bc-b980-4fab-f472-349c3000c458"
      },
      "execution_count": null,
      "outputs": [
        {
          "output_type": "execute_result",
          "data": {
            "text/plain": [
              "999"
            ]
          },
          "metadata": {},
          "execution_count": 75
        }
      ]
    },
    {
      "cell_type": "markdown",
      "source": [
        "## 12. Builtin Functions"
      ],
      "metadata": {
        "id": "T0PneM5u8noL"
      }
    },
    {
      "cell_type": "code",
      "source": [
        "from pyspark.sql.functions import upper, lower, substring\n",
        "\n",
        "df.select(upper('ChestPainType'), lower('ChestPainType'), substring('ChestPainType', 2, 2)).show(5)"
      ],
      "metadata": {
        "colab": {
          "base_uri": "https://localhost:8080/"
        },
        "id": "qgsoua-x6czL",
        "outputId": "0933eb2b-0b82-4c11-c0a0-f26e4004f59d"
      },
      "execution_count": null,
      "outputs": [
        {
          "output_type": "stream",
          "name": "stdout",
          "text": [
            "+--------------------+--------------------+------------------------------+\n",
            "|upper(ChestPainType)|lower(ChestPainType)|substring(ChestPainType, 2, 2)|\n",
            "+--------------------+--------------------+------------------------------+\n",
            "|                 ATA|                 ata|                            TA|\n",
            "|                 NAP|                 nap|                            AP|\n",
            "|                 ATA|                 ata|                            TA|\n",
            "|                 ASY|                 asy|                            SY|\n",
            "|                 NAP|                 nap|                            AP|\n",
            "+--------------------+--------------------+------------------------------+\n",
            "only showing top 5 rows\n",
            "\n"
          ]
        }
      ]
    },
    {
      "cell_type": "markdown",
      "source": [
        "### DateTime"
      ],
      "metadata": {
        "id": "I-WAXHL-92Uj"
      }
    },
    {
      "cell_type": "code",
      "source": [
        "from pyspark.sql.functions import expr\n",
        "\n",
        "df= df.withColumn('date', expr('date_add(current_timestamp(), cast(rand()*365 as int))'))"
      ],
      "metadata": {
        "id": "fSjXdACP9BHN"
      },
      "execution_count": null,
      "outputs": []
    },
    {
      "cell_type": "code",
      "source": [
        "df.show(5)"
      ],
      "metadata": {
        "colab": {
          "base_uri": "https://localhost:8080/"
        },
        "id": "7i-vFlVO-USe",
        "outputId": "b65dc43d-27e3-495a-b21d-3f58289fe1f1"
      },
      "execution_count": null,
      "outputs": [
        {
          "output_type": "stream",
          "name": "stdout",
          "text": [
            "+-----+----+---+-------------+---------+-----------+---------+----------+-----+--------------+-------+--------+------------+--------------------+----------+\n",
            "|index| Age|Sex|ChestPainType|RestingBP|Cholesterol|FastingBS|RestingECG|MaxHR|ExerciseAngina|Oldpeak|ST_Slope|HeartDisease|         feature_vec|      date|\n",
            "+-----+----+---+-------------+---------+-----------+---------+----------+-----+--------------+-------+--------+------------+--------------------+----------+\n",
            "|    0|40.0|  M|          ATA|      140|        289|        0|    Normal|  172|             N|    0.0|      Up|           0|[40.0,289.0,140.0...|2025-03-14|\n",
            "|    1|49.0|  F|          NAP|      160|        180|        0|    Normal|  156|             N|    1.0|    Flat|           1|[49.0,180.0,160.0...|2024-12-04|\n",
            "|    2|37.0|  M|          ATA|      130|        283|        0|        ST|   98|             N|    0.0|      Up|           0|[37.0,283.0,130.0...|2024-10-16|\n",
            "|    3|48.0|  F|          ASY|      138|        214|        0|    Normal|  108|             Y|    1.5|    Flat|           1|[48.0,214.0,138.0...|2024-12-31|\n",
            "|    4|54.0|  M|          NAP|      150|        195|        0|    Normal|  122|             N|    0.0|      Up|           0|[54.0,195.0,150.0...|2024-12-21|\n",
            "+-----+----+---+-------------+---------+-----------+---------+----------+-----+--------------+-------+--------+------------+--------------------+----------+\n",
            "only showing top 5 rows\n",
            "\n"
          ]
        }
      ]
    },
    {
      "cell_type": "code",
      "source": [],
      "metadata": {
        "id": "_35a5Ups-Vyo"
      },
      "execution_count": null,
      "outputs": []
    }
  ]
}